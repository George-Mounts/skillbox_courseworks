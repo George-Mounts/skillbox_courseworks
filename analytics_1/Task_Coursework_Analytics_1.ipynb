{
 "cells": [
  {
   "cell_type": "markdown",
   "metadata": {},
   "source": [
    "# Coursework 1\n",
    "\n",
    "## Task description"
   ]
  },
  {
   "cell_type": "markdown",
   "metadata": {},
   "source": [
    "**NB!** \n",
    "The code should be with comments for each logical code block. Otherwise, the work will **not** be accepted.<br>\n",
    "Код должен быть с комментариями к каждому логическому блоку кода. В противном случае работа **не** будет принята.<br>\n",
    "<br>\n",
    "Coursework may require the use of additional libraries.<br>\n",
    "Выполнение курсовой работы может потребовать использование дополнительных библиотек.<br>\n",
    "\n",
    "\n",
    "<br><br>\n",
    "**Work description:**<br>\n",
    "**Описание работы:**\n",
    "\n",
    "Your business task is to prepare an analytical report based on the available data, which will further help the producers of educational programs to effectively build a strategy for modernizing and improving courses. At the beginning of the report, it is proposed to draw up a capacious descriptive block for each course based on the calculated indicators. Further, it is proposed to calculate the potential workload on teachers in order to assess the need to expand the staff. Then comes a block of two points on the analysis of the quality of course content, where it is necessary to identify problematic modules that may need to be improved. The challenge is also to identify potential seasonality. Finally, a task is proposed for self-development of a metric of student performance to find those who are significantly worse at completing the course. Each of the analysis points is supposed to be accompanied by an analytical conclusion based on the calculated metrics.\n",
    "\n",
    "<br>\n",
    "\n",
    "Перед вами стоит бизнес-задача – на основании имеющихся данных подготовить аналитический отчет, который в дальнейшем поможет продюсерам образовательных программ эффективно выстраивать стратегию по модернизированию и улучшению курсов. В начале отчета предлагается оформить емкий описательный блок по каждому курсу на основании рассчитанных показателей. Далее предлагается посчитать потенциальную нагрузку на преподавателей, чтобы оценить необходимость расширения штата сотрудников. Затем идет блок из двух пунктов по анализу качества контента курсов, где необходимо выявить проблемные модули, которые, возможно, требуют доработки. Также стоит задача выявить потенциальную сезонность. Наконец, предложено задание для самостоятельной разработки метрики успеваемости студентов для нахождения тех, кто значительно хуже справляются с прохождением курса. Каждый из пунктов анализа предполагается сопроводить аналитическим выводом на основании рассчитанных метрик."
   ]
  },
  {
   "cell_type": "markdown",
   "metadata": {},
   "source": [
    "### 1. Description and initial work with data / Описание и начальная работа с данными\n",
    "\n",
    "You need to prepare the data and describe it. This is the real-world data and it contains missing values, as well as extra data relative to each other.\n",
    "<br>\n",
    "Вам необходимо подготовить данные и описать их. Данные реальные и содержат пропущенные значения, а также лишние относительно друг друга данные.\n",
    "<br>\n",
    "<br>\n",
    "Combine datasets (except `students.csv`) into one common one for further work. Create a separate dataset to calculate the average age of course students (a separate dataset with `students.csv` is needed in order not to lose values in the main dataset due to the fact that not all students have personal data on the date of birth).\n",
    "<br>\n",
    "Объедините датасеты (кроме `students.csv`) в один общий для дальнейшей работы. Отдельный датасет создайте для расчета среднего возраста студентов курсов (отдельный датасет со `students.csv` нужен, чтобы в основном не потерять значения в основном датасете из-за того, что не по всем студентам есть анкетные данные о дате рождения).\n",
    "<br><br>\n",
    "Describe the data / Опишите данные:<br>\n",
    "1. **(p)** Calculate / Посчитайте\n",
    "      * the total number of courses in the dataset / общее количество курсов в датасете, \n",
    "      * number of modules in each course / количество модулей на каждом курсе, \n",
    "      * number of lessons in each module in each course / количество уроков в каждом модуле на каждом курсе, \n",
    "      * median number of lessons per module in each course / медианное количество уроков в модуле на каждом курсе, \n",
    "      * number of students in each course / количество учеников на каждом курсе\n",
    "      * minimum, maximum, average, median age of students / минимальный, максимальный, средний, медианный возраст студентов\n",
    "      * minimum, maximum, average, median age of students in each course / минимальный, максимальный, средний, медианный возраст студентов на каждом курсе\n",
    "2. **(m)** Make a bar-chart showing the number of students in each course. Ticks need to be expanded so that they are readable / Постройте bar-chart, отражающий количество студентов на каждом курсе. Ticks нужно развернуть так, чтобы они были читаемы\n",
    "3. **(m)** Plot a horizontal (bars should be horizontal) bar-chart showing the number of students in each course. The chart must have a title. The values must be sorted. The color of the columns should contain information about the area to which the course belongs (that is, a legend is needed). Transparency should be at 0.1. The median line should be plotted on the graph. The median must have its own color. The chart should not have a frame.<br>/<br>Постройте горизонтальный (столбцы должны располагаться горизонтально) bar-chart, отражающий количество студентов на каждом курсе. График должен иметь заголовок. Значения должны быть отсортированы. Цвет столбцов должен содержать информацию о сфере, к которой относится курс (то есть нужна легенда). Прозрачность должна стоять на отметке 0.1. На график должна быть нанесена линия медианы. У медианы должен быть свой цвет. Рамки у графика быть не должно ⭐\n",
    "4. Based on the calculated values, describe the data (the description must be complete and cover all the metrics obtained above) / На основании рассчитанных значений опишите данные (описание должно быть полным и покрывать все полученные выше метрики)"
   ]
  },
  {
   "cell_type": "markdown",
   "metadata": {},
   "source": [
    "### 2. Calculation of the estimate work for teachers / Расчет потенциальной нагрузки на преподавателей\n",
    "\n",
    "\n",
    "1. **(p)** Calculate the growth of students in each course in each month for the entire history (each month in the range from March 2016 to July 2019 inclusive). Calculate the start date of the course by the student by the start date of the first homework. / Рассчитать прирост студентов на каждом курсе в каждом месяце за всю историю (каждый месяц в диапазоне от марта 2016 до июля 2019 включительно). Считать дату начала прохождения курса студентом по дате начала первой домашней работы.\n",
    "2. **(m)** Based on the first chapter, plot a line-graph with the growth of students in each month for each course. 15 charts. Graphs must have titles, axes must be labeled. Ticks need to be expanded so that they are readable. / На основании первого пункта построить line-graph с приростом студентов в каждом месяце для каждого курса. 15 графиков. Графики должны иметь заголовки, оси должны быть подписаны. Ticks нужно развернуть так, чтобы они были читаемы.\n",
    "3. **(m)** Based on the first chapter, plot a line-graph with several lines reflecting the growth of students in each month for each course. 15 lines on the chart. Ticks need to be expanded so that they are readable. The chart must have a title. The axis reflecting the increase must be signed. The line for each course must have a different color (requires a legend). The schedule should not have frames / На основании первого пункта построить line-graph с несколькими линиями, отражающими прирост студентов в каждом месяце для каждого курса. 15 линий на графике. Ticks нужно развернуть так, чтобы они были читаемы. График должен иметь заголовок. Ось, отражающая прирост, должна быть подписана. Линия для каждого курса должна иметь свой цвет (нужна легенда). Рамок у графика быть не должно ⭐\n",
    "4. **(p)** Calculate the number of homework progresses in each month throughout history (each month between March 2016 and July 2019 inclusive) for each course. Keep in mind that homework can span from one month to another (such hw should be included in the total number of progress for all months covered by the deadline for these hw). / Рассчитать количество прогрессов по выполнению домашних работ в каждом месяце за всю историю (каждый месяц в диапазоне от марта 2016 до июля 2019 включительно) для каждого курса. Учитывать, что выполнение домашнего задания может перетекать из одного месяца в другой (такие дз надо включать в общее число прогрессов для всех месяцев, которые покрывает срок выполнения этих дз).\n",
    "5. **(m)** Plot a line-graph on the fourth point. 15 charts. Graphs must have titles, axes must be labeled. Ticks need to be expanded so that they are readable. / Построить line-graph по четвертому пункту. 15 графиков. Графики должны иметь заголовки, оси должны быть подписаны. Ticks нужно развернуть так, чтобы они были читаемы.\n",
    "6. **(m)** Plot one line-graph for all courses on the fourth point. 15 lines on the chart. Ticks need to be expanded so that they are readable. The chart must have a title. The axis representing the number of progresses must be labeled. The line for each course must have a different color (requires a legend). The chart should not have borders. / Построить один line-graph для всех курсов по четвертому пункту. 15 линий на графике. Ticks нужно развернуть так, чтобы они были читаемы. График должен иметь заголовок. Ось, отражающая количество прогрессов, должна быть подписана. Линия для каждого курса должна иметь свой цвет (нужна легенда). Рамок у графика быть не должно ⭐\n",
    "7. Based on the calculated values, make an analytical conclusion (must be complete and cover all the metrics obtained above). / На основании рассчитанных значений сделайте аналитический вывод (должен быть полным и покрывать все полученные выше метрики)."
   ]
  },
  {
   "cell_type": "markdown",
   "metadata": {},
   "source": [
    "### 3. Detecting problematic modules / Выявление проблемных модулей\n",
    "\n",
    "\n",
    "1. **(p)** Calculate the minimum, maximum, average, median time to complete each module (the difference between the start and end time of homework) for each course. If there are several homework assignments in the module, then calculate the difference between the start time of the first homework and the end time of the last homework in the module. / Рассчитать минимальное, максимальное, среднее, медианное время прохождения каждого модуля (разность между временем начала и окончания выполнения домашней работы) для каждого курса. Если домашних заданий в модуле несколько, то считать разность между временем начала выполнения первой домашней работы и временем окончания выполнения последней домашней работы в модуле.\n",
    "2. **(m)** Based on the first chapter, build a line-graph with the median time to complete each module for each course. 15 charts. Charts should have titles. / На основании первого пункта построить line-graph с медианным временем прохождения каждого модуля для каждого курса. 15 графиков. Графики должны иметь заголовки.\n",
    "3. **(p)** To identify seasonality, calculate the median homework completion time by month (12 months, January-December) for each course. / Чтобы выявить сезонность, посчитать медианное время выполнения домашней работы по месяцам (12 месяцев, январь-декабрь) для каждого курса.\n",
    "4. **(m)** Based on the third chapter, build a line-graph on which lines will be plotted for each course with median homework time by month. 15 lines on the chart. The chart must have a title. The axis reflecting the completion time must be labeled. The line for each course must have a different color (requires a legend). The chart should not have borders. / На основании третьего пункта построить line-graph, на который будут нанесены линии для каждого курса с медианным временем выполнения домашней работы по месяцам. 15 линий на графике. График должен иметь заголовок. Ось, отражающая время прохождения, должна быть подписана. Линия для каждого курса должна иметь свой цвет (нужна легенда). Рамок у графика быть не должно ⭐\n",
    "5. Based on the calculated values, make an analytical conclusion (must be complete and cover all the metrics obtained above). / На основании рассчитанных значений сделайте аналитический вывод (должен быть полным и покрывать все полученные выше метрики)."
   ]
  },
  {
   "cell_type": "markdown",
   "metadata": {},
   "source": [
    "### 4. Conversion calculation / Расчет конверсии\n",
    "\n",
    "1. **(p)** Calculate the conversion of students moving from one module to another in each course. Formula: the ratio of the number of students who started doing homework in this module (if there are several hw in the module, then count on the first hw in the module), to the number of students who passed the assignment in the previous module (if there are several hw in the module, then count on the last hw in the module). / Посчитать конверсию перехода студентов из одного модуля в другой на каждом курсе. Формула: отношение количества студентов, приступивших к выполнению домашнего задания в этом модуле (если дз в модуле несколько, то считать по первому дз в модуле), к количеству студентов, сдавших задание в предыдущем модуле (если дз в модуле несколько, то считать по последнему дз в модуле).\n",
    "2. **(m)** Plot a bar-chart showing the conversion rate of students from one module to another in each course. The chart must have a title. Ticks need to be expanded so that they are readable. / Постройте bar-chart, отражающий конверсию перехода студентов из одного модуля в другой на каждом курсе. График должен иметь заголовок. Ticks нужно развернуть так, чтобы они были читаемы.\n",
    "3. **(m)** Plot a horizontal (bars must be horizontal) bar-chart showing the conversion rate of students from one module to another in each course. 15 charts. Charts should have titles. Ticks must contain the number and name of the module. The color of the graph columns should contain information about the area to which the course belongs (requires a legend). Transparency should be at 0.1. The charts should have a median conversion line for each course. The median must have its own color. Graphs should not have borders. / Постройте горизонтальный (столбцы должны располагаться горизонтально) bar-chart, отражающий конверсию перехода студентов из одного модуля в другой на каждом курсе. 15 графиков. Графики должны иметь заголовки. Ticks должны содержать номер и название модуля. Цвет столбцов графиков должен содержать информацию о сфере, к которой относится курс (нужна легенда). Прозрачность должна стоять на отметке 0.1. На графики должна быть нанесена линия медианы конверсии для каждого курса. У медианы должен быть свой цвет. Рамок у графиков быть не должно. ⭐\n",
    "4. Based on the calculated values, make an analytical conclusion (must be complete and cover all the metrics obtained above). / На основании рассчитанных значений сделайте аналитический вывод (должен быть полным и покрывать все полученные выше метрики)."
   ]
  },
  {
   "cell_type": "markdown",
   "metadata": {},
   "source": [
    "### 5. Performance Metric / Метрика успеваемости\n",
    "\n",
    "Sometimes students take courses that are too hard for them. This can be both for reasons of insufficient initial preparation, and for reasons related to the low motivation of the student. To improve the quality of content, it is useful to identify the cause. Based on the available data, come up with a metric for student performance. Justify it. Identify such students in each course to provide producers with a list of underperforming students. / Иногда студенты берут курсы, которые оказываются для них неподъемными. Это может быть как по причинам недостаточной изначальной подготовки, так и по причинам, связанным с низкой мотивацией студента. Для улучшения качества контента полезно выявить причину. На основании имеющихся данных придумайте метрику успеваемости студента. Обоснуйте ее. Выявите таких студентов на каждом курсе, чтобы предоставить продюсерам список проблемных студентов."
   ]
  },
  {
   "cell_type": "code",
   "execution_count": null,
   "metadata": {},
   "outputs": [],
   "source": []
  }
 ],
 "metadata": {
  "kernelspec": {
   "display_name": "Python 3",
   "language": "python",
   "name": "python3"
  },
  "language_info": {
   "codemirror_mode": {
    "name": "ipython",
    "version": 3
   },
   "file_extension": ".py",
   "mimetype": "text/x-python",
   "name": "python",
   "nbconvert_exporter": "python",
   "pygments_lexer": "ipython3",
   "version": "3.8.5"
  }
 },
 "nbformat": 4,
 "nbformat_minor": 2
}
