{
 "cells": [
  {
   "cell_type": "markdown",
   "metadata": {},
   "source": [
    "# Coursework 1\n",
    "## Part 1. Describe the data"
   ]
  },
  {
   "cell_type": "code",
   "execution_count": 1,
   "metadata": {},
   "outputs": [],
   "source": [
    "import numpy as np\n",
    "import pandas as pd\n",
    "import matplotlib.pyplot as plt\n",
    "import os"
   ]
  },
  {
   "cell_type": "code",
   "execution_count": 2,
   "metadata": {},
   "outputs": [],
   "source": [
    "DATA_PATH = \"./Data\""
   ]
  },
  {
   "cell_type": "code",
   "execution_count": 3,
   "metadata": {},
   "outputs": [
    {
     "name": "stdout",
     "output_type": "stream",
     "text": [
      "Main dataset:\n",
      "progress_id              object\n",
      "student_id               object\n",
      "course_id                object\n",
      "module_number           float64\n",
      "lesson_number           float64\n",
      "status                   object\n",
      "start_date       datetime64[ns]\n",
      "finish_date      datetime64[ns]\n",
      "course_title             object\n",
      "course_field             object\n",
      "module_title             object\n",
      "lesson_title             object\n",
      "lesson_token             object\n",
      "is_video                 object\n",
      "is_homework              object\n",
      "dtype: object\n",
      "Index(['progress_id', 'student_id', 'course_id', 'module_number',\n",
      "       'lesson_number', 'status', 'start_date', 'finish_date', 'course_title',\n",
      "       'course_field', 'module_title', 'lesson_title', 'lesson_token',\n",
      "       'is_video', 'is_homework'],\n",
      "      dtype='object')\n",
      "\n",
      "Student dataset:\n",
      "id_                    int64\n",
      "student_id            object\n",
      "city                  object\n",
      "birthday      datetime64[ns]\n",
      "dtype: object\n",
      "Index(['id_', 'student_id', 'city', 'birthday'], dtype='object')\n"
     ]
    }
   ],
   "source": [
    "df_dict = {}\n",
    "\n",
    "for file_ in os.listdir(DATA_PATH):\n",
    "    df_dict[file_] = pd.read_csv(os.path.join(DATA_PATH, file_))\n",
    "    \n",
    "df_dict[\"progresses.csv\"].columns = [\"progress_id\", \"student_id\", \"course_id\"]\n",
    "\n",
    "df_dict[\"students.csv\"].columns = ['id_', 'student_id', 'city', 'birthday']\n",
    "df_dict[\"students.csv\"][\"birthday\"] = pd.to_datetime(df_dict[\"students.csv\"][\"birthday\"], errors=\"coerce\")\n",
    "\n",
    "df_dict[\"courses.csv\"].columns = [\"index\", \"course_id\", \"course_title\", \"course_field\"]\n",
    "df_dict[\"courses.csv\"].set_index(\"index\", inplace=True)\n",
    "\n",
    "dataset = pd.merge(left=df_dict[\"progresses.csv\"],\n",
    "                   right=df_dict[\"progress_phases.csv\"],\n",
    "                   on=\"progress_id\",\n",
    "                   how=\"outer\")\n",
    "\n",
    "dataset = pd.merge(left=dataset,\n",
    "                   right=df_dict[\"courses.csv\"],\n",
    "                   on=\"course_id\",\n",
    "                   how=\"outer\")\n",
    "\n",
    "dataset = pd.merge(left=dataset,\n",
    "                   right=df_dict[\"course_contents.csv\"],\n",
    "                   on=[\"course_id\", \"lesson_number\", \"module_number\"],\n",
    "                   how=\"outer\")\n",
    "\n",
    "dataset[\"start_date\"] = (\n",
    "    pd.to_datetime(dataset[\"start_date\"], errors=\"coerce\", utc=False)\n",
    "    .dt.tz_localize(None)\n",
    "    )\n",
    "\n",
    "dataset[\"finish_date\"] = (\n",
    "    pd.to_datetime(dataset[\"finish_date\"], errors=\"coerce\", utc=False)\n",
    "    .dt.tz_localize(None)\n",
    "    )\n",
    "\n",
    "dset_students = df_dict[\"students.csv\"].copy(deep=True)\n",
    "\n",
    "print(\"Main dataset:\", dataset.dtypes, dataset.columns, sep=\"\\n\", end=\"\\n\\n\")\n",
    "print(\"Student dataset:\", dset_students.dtypes, dset_students.columns, sep=\"\\n\")"
   ]
  },
  {
   "cell_type": "markdown",
   "metadata": {},
   "source": [
    "### Total number of courses"
   ]
  },
  {
   "cell_type": "code",
   "execution_count": 4,
   "metadata": {},
   "outputs": [
    {
     "data": {
      "text/plain": [
       "15"
      ]
     },
     "execution_count": 4,
     "metadata": {},
     "output_type": "execute_result"
    }
   ],
   "source": [
    "dataset[\"course_id\"].nunique()"
   ]
  },
  {
   "cell_type": "markdown",
   "metadata": {},
   "source": [
    "### Number of modules in each course"
   ]
  },
  {
   "cell_type": "code",
   "execution_count": 5,
   "metadata": {},
   "outputs": [
    {
     "data": {
      "text/plain": [
       "course_title\n",
       "Excel Базовый                           9\n",
       "Java-разработчик                       17\n",
       "Java-разработчик c нуля                 9\n",
       "JavaScript с нуля                      18\n",
       "PHP-разработчик с 0 до PRO. Часть 1     8\n",
       "SMM-маркетолог от А до Я               11\n",
       "UX-дизайн                              20\n",
       "Анимация интерфейсов                   21\n",
       "Веб-вёрстка для начинающих 2.0          8\n",
       "Веб-дизайн PRO 2.0                     17\n",
       "Веб-дизайн Базовый                     17\n",
       "Веб-дизайн с нуля 2.0                  19\n",
       "Веб-разработчик                        20\n",
       "Интернет-маркетолог от Ingate          18\n",
       "Руководитель digital-проектов          17\n",
       "Name: module_number, dtype: int64"
      ]
     },
     "execution_count": 5,
     "metadata": {},
     "output_type": "execute_result"
    }
   ],
   "source": [
    "(\n",
    "    dataset.groupby(\"course_title\")\n",
    "            .nunique()\n",
    "            [\"module_number\"]\n",
    ")"
   ]
  },
  {
   "cell_type": "markdown",
   "metadata": {},
   "source": [
    "### Number of lessons in each module\n",
    "\n",
    "`Question`: how to display properly"
   ]
  },
  {
   "cell_type": "code",
   "execution_count": 6,
   "metadata": {
    "scrolled": false
   },
   "outputs": [
    {
     "data": {
      "text/html": [
       "<div>\n",
       "<style scoped>\n",
       "    .dataframe tbody tr th:only-of-type {\n",
       "        vertical-align: middle;\n",
       "    }\n",
       "\n",
       "    .dataframe tbody tr th {\n",
       "        vertical-align: top;\n",
       "    }\n",
       "\n",
       "    .dataframe thead th {\n",
       "        text-align: right;\n",
       "    }\n",
       "</style>\n",
       "<table border=\"1\" class=\"dataframe\">\n",
       "  <thead>\n",
       "    <tr style=\"text-align: right;\">\n",
       "      <th></th>\n",
       "      <th></th>\n",
       "      <th>lesson_number</th>\n",
       "    </tr>\n",
       "    <tr>\n",
       "      <th>course_title</th>\n",
       "      <th>module_number</th>\n",
       "      <th></th>\n",
       "    </tr>\n",
       "  </thead>\n",
       "  <tbody>\n",
       "    <tr>\n",
       "      <td rowspan=\"5\" valign=\"top\">Excel Базовый</td>\n",
       "      <td>1.0</td>\n",
       "      <td>11</td>\n",
       "    </tr>\n",
       "    <tr>\n",
       "      <td>2.0</td>\n",
       "      <td>7</td>\n",
       "    </tr>\n",
       "    <tr>\n",
       "      <td>3.0</td>\n",
       "      <td>3</td>\n",
       "    </tr>\n",
       "    <tr>\n",
       "      <td>4.0</td>\n",
       "      <td>7</td>\n",
       "    </tr>\n",
       "    <tr>\n",
       "      <td>5.0</td>\n",
       "      <td>5</td>\n",
       "    </tr>\n",
       "    <tr>\n",
       "      <td>...</td>\n",
       "      <td>...</td>\n",
       "      <td>...</td>\n",
       "    </tr>\n",
       "    <tr>\n",
       "      <td rowspan=\"5\" valign=\"top\">Руководитель digital-проектов</td>\n",
       "      <td>13.0</td>\n",
       "      <td>4</td>\n",
       "    </tr>\n",
       "    <tr>\n",
       "      <td>14.0</td>\n",
       "      <td>7</td>\n",
       "    </tr>\n",
       "    <tr>\n",
       "      <td>15.0</td>\n",
       "      <td>12</td>\n",
       "    </tr>\n",
       "    <tr>\n",
       "      <td>16.0</td>\n",
       "      <td>8</td>\n",
       "    </tr>\n",
       "    <tr>\n",
       "      <td>17.0</td>\n",
       "      <td>4</td>\n",
       "    </tr>\n",
       "  </tbody>\n",
       "</table>\n",
       "<p>229 rows × 1 columns</p>\n",
       "</div>"
      ],
      "text/plain": [
       "                                             lesson_number\n",
       "course_title                  module_number               \n",
       "Excel Базовый                 1.0                       11\n",
       "                              2.0                        7\n",
       "                              3.0                        3\n",
       "                              4.0                        7\n",
       "                              5.0                        5\n",
       "...                                                    ...\n",
       "Руководитель digital-проектов 13.0                       4\n",
       "                              14.0                       7\n",
       "                              15.0                      12\n",
       "                              16.0                       8\n",
       "                              17.0                       4\n",
       "\n",
       "[229 rows x 1 columns]"
      ]
     },
     "execution_count": 6,
     "metadata": {},
     "output_type": "execute_result"
    }
   ],
   "source": [
    "pd.DataFrame(\n",
    "    dataset.groupby([\"course_title\", \"module_number\"])\n",
    "            .nunique()\n",
    "            [\"lesson_number\"]\n",
    ")"
   ]
  },
  {
   "cell_type": "markdown",
   "metadata": {},
   "source": [
    "### Median number of lessons in module\n",
    "`Doto`: write an explanation what the f is going on here"
   ]
  },
  {
   "cell_type": "code",
   "execution_count": 7,
   "metadata": {},
   "outputs": [
    {
     "data": {
      "text/html": [
       "<div>\n",
       "<style scoped>\n",
       "    .dataframe tbody tr th:only-of-type {\n",
       "        vertical-align: middle;\n",
       "    }\n",
       "\n",
       "    .dataframe tbody tr th {\n",
       "        vertical-align: top;\n",
       "    }\n",
       "\n",
       "    .dataframe thead th {\n",
       "        text-align: right;\n",
       "    }\n",
       "</style>\n",
       "<table border=\"1\" class=\"dataframe\">\n",
       "  <thead>\n",
       "    <tr style=\"text-align: right;\">\n",
       "      <th></th>\n",
       "      <th>course title</th>\n",
       "      <th>median lesson count in module</th>\n",
       "    </tr>\n",
       "  </thead>\n",
       "  <tbody>\n",
       "    <tr>\n",
       "      <td>0</td>\n",
       "      <td>Excel Базовый</td>\n",
       "      <td>5.0</td>\n",
       "    </tr>\n",
       "    <tr>\n",
       "      <td>1</td>\n",
       "      <td>Java-разработчик</td>\n",
       "      <td>7.0</td>\n",
       "    </tr>\n",
       "    <tr>\n",
       "      <td>2</td>\n",
       "      <td>Java-разработчик c нуля</td>\n",
       "      <td>13.0</td>\n",
       "    </tr>\n",
       "    <tr>\n",
       "      <td>3</td>\n",
       "      <td>JavaScript с нуля</td>\n",
       "      <td>7.0</td>\n",
       "    </tr>\n",
       "    <tr>\n",
       "      <td>4</td>\n",
       "      <td>PHP-разработчик с 0 до PRO. Часть 1</td>\n",
       "      <td>4.0</td>\n",
       "    </tr>\n",
       "    <tr>\n",
       "      <td>5</td>\n",
       "      <td>SMM-маркетолог от А до Я</td>\n",
       "      <td>6.0</td>\n",
       "    </tr>\n",
       "    <tr>\n",
       "      <td>6</td>\n",
       "      <td>UX-дизайн</td>\n",
       "      <td>3.5</td>\n",
       "    </tr>\n",
       "    <tr>\n",
       "      <td>7</td>\n",
       "      <td>Анимация интерфейсов</td>\n",
       "      <td>3.0</td>\n",
       "    </tr>\n",
       "    <tr>\n",
       "      <td>8</td>\n",
       "      <td>Веб-вёрстка для начинающих 2.0</td>\n",
       "      <td>7.0</td>\n",
       "    </tr>\n",
       "    <tr>\n",
       "      <td>9</td>\n",
       "      <td>Веб-дизайн PRO 2.0</td>\n",
       "      <td>5.0</td>\n",
       "    </tr>\n",
       "    <tr>\n",
       "      <td>10</td>\n",
       "      <td>Веб-дизайн Базовый</td>\n",
       "      <td>3.0</td>\n",
       "    </tr>\n",
       "    <tr>\n",
       "      <td>11</td>\n",
       "      <td>Веб-дизайн с нуля 2.0</td>\n",
       "      <td>4.0</td>\n",
       "    </tr>\n",
       "    <tr>\n",
       "      <td>12</td>\n",
       "      <td>Веб-разработчик</td>\n",
       "      <td>2.0</td>\n",
       "    </tr>\n",
       "    <tr>\n",
       "      <td>13</td>\n",
       "      <td>Интернет-маркетолог от Ingate</td>\n",
       "      <td>6.5</td>\n",
       "    </tr>\n",
       "    <tr>\n",
       "      <td>14</td>\n",
       "      <td>Руководитель digital-проектов</td>\n",
       "      <td>5.0</td>\n",
       "    </tr>\n",
       "  </tbody>\n",
       "</table>\n",
       "</div>"
      ],
      "text/plain": [
       "                           course title  median lesson count in module\n",
       "0                         Excel Базовый                            5.0\n",
       "1                      Java-разработчик                            7.0\n",
       "2               Java-разработчик c нуля                           13.0\n",
       "3                     JavaScript с нуля                            7.0\n",
       "4   PHP-разработчик с 0 до PRO. Часть 1                            4.0\n",
       "5              SMM-маркетолог от А до Я                            6.0\n",
       "6                             UX-дизайн                            3.5\n",
       "7                  Анимация интерфейсов                            3.0\n",
       "8        Веб-вёрстка для начинающих 2.0                            7.0\n",
       "9                    Веб-дизайн PRO 2.0                            5.0\n",
       "10                   Веб-дизайн Базовый                            3.0\n",
       "11                Веб-дизайн с нуля 2.0                            4.0\n",
       "12                      Веб-разработчик                            2.0\n",
       "13        Интернет-маркетолог от Ingate                            6.5\n",
       "14        Руководитель digital-проектов                            5.0"
      ]
     },
     "execution_count": 7,
     "metadata": {},
     "output_type": "execute_result"
    }
   ],
   "source": [
    "output_list = []\n",
    "\n",
    "for course_title_, nunique_df in dataset.groupby([\"course_title\", \"module_number\"]).nunique().groupby(level=0):\n",
    "    output_list.append([course_title_, nunique_df[\"lesson_number\"].median()])\n",
    "\n",
    "pd.DataFrame(output_list, columns=[\"course title\", \"median lesson count in module\"])"
   ]
  },
  {
   "cell_type": "markdown",
   "metadata": {},
   "source": [
    "### Number of students in each course"
   ]
  },
  {
   "cell_type": "code",
   "execution_count": 8,
   "metadata": {},
   "outputs": [
    {
     "data": {
      "text/plain": [
       "course_title\n",
       "Excel Базовый                           782\n",
       "Java-разработчик                        763\n",
       "Java-разработчик c нуля                 581\n",
       "JavaScript с нуля                       966\n",
       "PHP-разработчик с 0 до PRO. Часть 1     854\n",
       "SMM-маркетолог от А до Я                511\n",
       "UX-дизайн                              1151\n",
       "Анимация интерфейсов                    598\n",
       "Веб-вёрстка для начинающих 2.0         2004\n",
       "Веб-дизайн PRO 2.0                     1711\n",
       "Веб-дизайн Базовый                      518\n",
       "Веб-дизайн с нуля 2.0                  2014\n",
       "Веб-разработчик                         628\n",
       "Интернет-маркетолог от Ingate          2168\n",
       "Руководитель digital-проектов           685\n",
       "Name: student_id, dtype: int64"
      ]
     },
     "execution_count": 8,
     "metadata": {},
     "output_type": "execute_result"
    }
   ],
   "source": [
    "(\n",
    "    dataset.groupby(\"course_title\")\n",
    "            .nunique()\n",
    "            [\"student_id\"]\n",
    ")"
   ]
  },
  {
   "cell_type": "markdown",
   "metadata": {},
   "source": [
    "### Minimum, maximum, mean, median age of students\n",
    "`Doto`: formulate the task\n",
    "1. Plot the distribution and find outliers\n",
    "2. Clamp"
   ]
  },
  {
   "cell_type": "code",
   "execution_count": 13,
   "metadata": {},
   "outputs": [
    {
     "name": "stdout",
     "output_type": "stream",
     "text": [
      "Min: 1921-01-01 00:00:00 | Max: 2020-01-01 00:00:00\n"
     ]
    },
    {
     "data": {
      "image/png": "[encoded data removed]",
      "text/plain": [
       "<Figure size 432x288 with 1 Axes>"
      ]
     },
     "metadata": {
      "needs_background": "light"
     },
     "output_type": "display_data"
    }
   ],
   "source": [
    "# value distribution\n",
    "\n",
    "from pandas.plotting import register_matplotlib_converters\n",
    "register_matplotlib_converters()\n",
    "\n",
    "print(\"Min:\", dset_students[\"birthday\"].min(), \"| Max:\", dset_students[\"birthday\"].max())\n",
    "\n",
    "fig, ax = plt.subplots()\n",
    "\n",
    "ax.hist(dset_students[\"birthday\"].dropna(), bins=100)\n",
    "ax.set_title(\"Students' age raw distribution\")\n",
    "plt.show()"
   ]
  },
  {
   "cell_type": "code",
   "execution_count": 12,
   "metadata": {},
   "outputs": [
    {
     "name": "stdout",
     "output_type": "stream",
     "text": [
      "Min: 1921-01-01 00:00:00 | Max: 2020-01-01 00:00:00\n"
     ]
    },
    {
     "data": {
      "image/png": "[encoded data removed]",
      "text/plain": [
       "<Figure size 432x288 with 1 Axes>"
      ]
     },
     "metadata": {
      "needs_background": "light"
     },
     "output_type": "display_data"
    }
   ],
   "source": [
    "# Clamp\n",
    "\n",
    "bad_dates_mask = (dset_students[\"birthday\"] > np.datetime64(str(2021))) | (\n",
    "                dset_students[\"birthday\"] < np.datetime64(str(2021-100)))\n",
    "\n",
    "dset_students.loc[bad_dates_mask] = pd.NaT\n",
    "\n",
    "\n",
    "# Check\n",
    "\n",
    "print(\"Min:\", dset_students[\"birthday\"].min(), \"| Max:\", dset_students[\"birthday\"].max())\n",
    "\n",
    "fig, ax = plt.subplots()\n",
    "\n",
    "ax.hist(dset_students[\"birthday\"].dropna(), bins=100)\n",
    "ax.set_title(\"Students with age from 0 to 100\")\n",
    "plt.show()"
   ]
  },
  {
   "cell_type": "code",
   "execution_count": null,
   "metadata": {},
   "outputs": [],
   "source": []
  }
 ],
 "metadata": {
  "kernelspec": {
   "display_name": "Python 3",
   "language": "python",
   "name": "python3"
  },
  "language_info": {
   "codemirror_mode": {
    "name": "ipython",
    "version": 3
   },
   "file_extension": ".py",
   "mimetype": "text/x-python",
   "name": "python",
   "nbconvert_exporter": "python",
   "pygments_lexer": "ipython3",
   "version": "3.7.4"
  }
 },
 "nbformat": 4,
 "nbformat_minor": 2
}
