{
 "cells": [
  {
   "cell_type": "markdown",
   "metadata": {},
   "source": [
    "# Coursework 1\n",
    "## Part 3."
   ]
  },
  {
   "cell_type": "code",
   "execution_count": null,
   "metadata": {},
   "outputs": [],
   "source": [
    "import numpy as np\n",
    "import pandas as pd\n",
    "import matplotlib.pyplot as plt\n",
    "import os"
   ]
  },
  {
   "cell_type": "code",
   "execution_count": null,
   "metadata": {},
   "outputs": [],
   "source": [
    "DATA_PATH = \"./Data\""
   ]
  },
  {
   "cell_type": "code",
   "execution_count": null,
   "metadata": {},
   "outputs": [],
   "source": [
    "df_dict = {}\n",
    "\n",
    "for file_ in os.listdir(DATA_PATH):\n",
    "    df_dict[file_] = pd.read_csv(os.path.join(DATA_PATH, file_))\n",
    "    \n",
    "df_dict[\"progresses.csv\"].columns = [\"progress_id\", \"student_id\", \"course_id\"]\n",
    "\n",
    "df_dict[\"students.csv\"].columns = ['id_', 'student_id', 'city', 'birthday']\n",
    "df_dict[\"students.csv\"][\"birthday\"] = pd.to_datetime(df_dict[\"students.csv\"][\"birthday\"], errors=\"coerce\")\n",
    "\n",
    "df_dict[\"courses.csv\"].columns = [\"index\", \"course_id\", \"course_title\", \"course_field\"]\n",
    "df_dict[\"courses.csv\"].set_index(\"index\", inplace=True)\n",
    "\n",
    "dataset = pd.merge(left=df_dict[\"progresses.csv\"],\n",
    "                   right=df_dict[\"progress_phases.csv\"],\n",
    "                   on=\"progress_id\",\n",
    "                   how=\"outer\")\n",
    "\n",
    "dataset = pd.merge(left=dataset,\n",
    "                   right=df_dict[\"courses.csv\"],\n",
    "                   on=\"course_id\",\n",
    "                   how=\"outer\")\n",
    "\n",
    "dataset = pd.merge(left=dataset,\n",
    "                   right=df_dict[\"course_contents.csv\"],\n",
    "                   on=[\"course_id\", \"lesson_number\", \"module_number\"],\n",
    "                   how=\"outer\")\n",
    "\n",
    "dataset[\"start_date\"] = (\n",
    "    pd.to_datetime(dataset[\"start_date\"], errors=\"coerce\", utc=False)\n",
    "    .dt.tz_localize(None)\n",
    "    )\n",
    "\n",
    "dataset[\"finish_date\"] = (\n",
    "    pd.to_datetime(dataset[\"finish_date\"], errors=\"coerce\", utc=False)\n",
    "    .dt.tz_localize(None)\n",
    "    )\n",
    "\n",
    "dset_students = df_dict[\"students.csv\"].copy(deep=True)\n",
    "dset_students[\"age_years\"] = (np.datetime64(str(2022)) - dset_students[\"birthday\"]).astype(\"timedelta64[Y]\")\n",
    "#dset_students[\"student_age\"] = dset_students[\"student_age\"].astype(\"timedelta64[Y]\")\n",
    "\n",
    "print(\"Main dataset:\", dataset.dtypes, dataset.columns, sep=\"\\n\", end=\"\\n\\n\")\n",
    "print(\"Student dataset:\", dset_students.dtypes, dset_students.columns, sep=\"\\n\")"
   ]
  },
  {
   "cell_type": "code",
   "execution_count": null,
   "metadata": {},
   "outputs": [],
   "source": []
  }
 ],
 "metadata": {
  "kernelspec": {
   "display_name": "Python 3",
   "language": "python",
   "name": "python3"
  },
  "language_info": {
   "codemirror_mode": {
    "name": "ipython",
    "version": 3
   },
   "file_extension": ".py",
   "mimetype": "text/x-python",
   "name": "python",
   "nbconvert_exporter": "python",
   "pygments_lexer": "ipython3",
   "version": "3.8.5"
  }
 },
 "nbformat": 4,
 "nbformat_minor": 4
}
