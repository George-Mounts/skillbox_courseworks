{
 "cells": [
  {
   "cell_type": "markdown",
   "metadata": {},
   "source": [
    "# Coursework 1\n",
    "## Part 3. Detecting problematic modules"
   ]
  },
  {
   "cell_type": "code",
   "execution_count": 1,
   "metadata": {},
   "outputs": [],
   "source": [
    "import numpy as np\n",
    "import pandas as pd\n",
    "import matplotlib.pyplot as plt\n",
    "import os"
   ]
  },
  {
   "cell_type": "code",
   "execution_count": 2,
   "metadata": {},
   "outputs": [],
   "source": [
    "DATA_PATH = \"./Data\""
   ]
  },
  {
   "cell_type": "code",
   "execution_count": 3,
   "metadata": {},
   "outputs": [
    {
     "name": "stdout",
     "output_type": "stream",
     "text": [
      "Main dataset:\n",
      "progress_id              object\n",
      "student_id               object\n",
      "course_id                object\n",
      "module_number           float64\n",
      "lesson_number           float64\n",
      "status                   object\n",
      "start_date       datetime64[ns]\n",
      "finish_date      datetime64[ns]\n",
      "course_title             object\n",
      "course_field             object\n",
      "module_title             object\n",
      "lesson_title             object\n",
      "lesson_token             object\n",
      "is_video                 object\n",
      "is_homework              object\n",
      "dtype: object\n",
      "Index(['progress_id', 'student_id', 'course_id', 'module_number',\n",
      "       'lesson_number', 'status', 'start_date', 'finish_date', 'course_title',\n",
      "       'course_field', 'module_title', 'lesson_title', 'lesson_token',\n",
      "       'is_video', 'is_homework'],\n",
      "      dtype='object')\n",
      "\n",
      "Student dataset:\n",
      "id_                    int64\n",
      "student_id            object\n",
      "city                  object\n",
      "birthday      datetime64[ns]\n",
      "age_years            float64\n",
      "dtype: object\n",
      "Index(['id_', 'student_id', 'city', 'birthday', 'age_years'], dtype='object')\n"
     ]
    }
   ],
   "source": [
    "df_dict = {}\n",
    "\n",
    "for file_ in os.listdir(DATA_PATH):\n",
    "    df_dict[file_] = pd.read_csv(os.path.join(DATA_PATH, file_))\n",
    "    \n",
    "df_dict[\"progresses.csv\"].columns = [\"progress_id\", \"student_id\", \"course_id\"]\n",
    "\n",
    "df_dict[\"students.csv\"].columns = ['id_', 'student_id', 'city', 'birthday']\n",
    "df_dict[\"students.csv\"][\"birthday\"] = pd.to_datetime(df_dict[\"students.csv\"][\"birthday\"], errors=\"coerce\")\n",
    "\n",
    "df_dict[\"courses.csv\"].columns = [\"index\", \"course_id\", \"course_title\", \"course_field\"]\n",
    "df_dict[\"courses.csv\"].set_index(\"index\", inplace=True)\n",
    "\n",
    "dataset = pd.merge(left=df_dict[\"progresses.csv\"],\n",
    "                   right=df_dict[\"progress_phases.csv\"],\n",
    "                   on=\"progress_id\",\n",
    "                   how=\"outer\")\n",
    "\n",
    "dataset = pd.merge(left=dataset,\n",
    "                   right=df_dict[\"courses.csv\"],\n",
    "                   on=\"course_id\",\n",
    "                   how=\"outer\")\n",
    "\n",
    "dataset = pd.merge(left=dataset,\n",
    "                   right=df_dict[\"course_contents.csv\"],\n",
    "                   on=[\"course_id\", \"lesson_number\", \"module_number\"],\n",
    "                   how=\"outer\")\n",
    "\n",
    "dataset[\"start_date\"] = (\n",
    "    pd.to_datetime(dataset[\"start_date\"], errors=\"coerce\", utc=False)\n",
    "    .dt.tz_localize(None)\n",
    "    )\n",
    "\n",
    "dataset[\"finish_date\"] = (\n",
    "    pd.to_datetime(dataset[\"finish_date\"], errors=\"coerce\", utc=False)\n",
    "    .dt.tz_localize(None)\n",
    "    )\n",
    "\n",
    "dset_students = df_dict[\"students.csv\"].copy(deep=True)\n",
    "dset_students[\"age_years\"] = (np.datetime64(str(2022)) - dset_students[\"birthday\"]).astype(\"timedelta64[Y]\")\n",
    "#dset_students[\"student_age\"] = dset_students[\"student_age\"].astype(\"timedelta64[Y]\")\n",
    "\n",
    "print(\"Main dataset:\", dataset.dtypes, dataset.columns, sep=\"\\n\", end=\"\\n\\n\")\n",
    "print(\"Student dataset:\", dset_students.dtypes, dset_students.columns, sep=\"\\n\")"
   ]
  },
  {
   "cell_type": "markdown",
   "metadata": {},
   "source": [
    "### Time to complete module - minimum"
   ]
  },
  {
   "cell_type": "code",
   "execution_count": null,
   "metadata": {},
   "outputs": [],
   "source": []
  },
  {
   "cell_type": "markdown",
   "metadata": {},
   "source": [
    "### Time to complete module - maximum"
   ]
  },
  {
   "cell_type": "code",
   "execution_count": null,
   "metadata": {},
   "outputs": [],
   "source": []
  },
  {
   "cell_type": "markdown",
   "metadata": {},
   "source": [
    "### Time to complete module - average"
   ]
  },
  {
   "cell_type": "code",
   "execution_count": null,
   "metadata": {},
   "outputs": [],
   "source": []
  },
  {
   "cell_type": "markdown",
   "metadata": {},
   "source": [
    "### Time to complete module - median"
   ]
  },
  {
   "cell_type": "code",
   "execution_count": null,
   "metadata": {},
   "outputs": [],
   "source": []
  }
 ],
 "metadata": {
  "kernelspec": {
   "display_name": "Python 3",
   "language": "python",
   "name": "python3"
  },
  "language_info": {
   "codemirror_mode": {
    "name": "ipython",
    "version": 3
   },
   "file_extension": ".py",
   "mimetype": "text/x-python",
   "name": "python",
   "nbconvert_exporter": "python",
   "pygments_lexer": "ipython3",
   "version": "3.8.5"
  }
 },
 "nbformat": 4,
 "nbformat_minor": 4
}
