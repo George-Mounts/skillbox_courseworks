{
 "cells": [
  {
   "cell_type": "markdown",
   "metadata": {},
   "source": [
    "# Coursework 1\n",
    "## Part 3. Detecting problematic modules"
   ]
  },
  {
   "cell_type": "code",
   "execution_count": 1,
   "metadata": {},
   "outputs": [],
   "source": [
    "import numpy as np\n",
    "import pandas as pd\n",
    "import matplotlib.pyplot as plt\n",
    "import os"
   ]
  },
  {
   "cell_type": "code",
   "execution_count": 2,
   "metadata": {},
   "outputs": [],
   "source": [
    "DATA_PATH = \"./Data\""
   ]
  },
  {
   "cell_type": "code",
   "execution_count": 3,
   "metadata": {},
   "outputs": [
    {
     "name": "stdout",
     "output_type": "stream",
     "text": [
      "Main dataset:\n",
      "progress_id              object\n",
      "student_id               object\n",
      "course_id                object\n",
      "module_number           float64\n",
      "lesson_number           float64\n",
      "status                   object\n",
      "start_date       datetime64[ns]\n",
      "finish_date      datetime64[ns]\n",
      "course_title             object\n",
      "course_field             object\n",
      "module_title             object\n",
      "lesson_title             object\n",
      "lesson_token             object\n",
      "is_video                 object\n",
      "is_homework              object\n",
      "dtype: object\n",
      "Index(['progress_id', 'student_id', 'course_id', 'module_number',\n",
      "       'lesson_number', 'status', 'start_date', 'finish_date', 'course_title',\n",
      "       'course_field', 'module_title', 'lesson_title', 'lesson_token',\n",
      "       'is_video', 'is_homework'],\n",
      "      dtype='object')\n",
      "\n",
      "Student dataset:\n",
      "id_                    int64\n",
      "student_id            object\n",
      "city                  object\n",
      "birthday      datetime64[ns]\n",
      "age_years            float64\n",
      "dtype: object\n",
      "Index(['id_', 'student_id', 'city', 'birthday', 'age_years'], dtype='object')\n"
     ]
    }
   ],
   "source": [
    "df_dict = {}\n",
    "\n",
    "for file_ in os.listdir(DATA_PATH):\n",
    "    df_dict[file_] = pd.read_csv(os.path.join(DATA_PATH, file_))\n",
    "    \n",
    "df_dict[\"progresses.csv\"].columns = [\"progress_id\", \"student_id\", \"course_id\"]\n",
    "\n",
    "df_dict[\"students.csv\"].columns = ['id_', 'student_id', 'city', 'birthday']\n",
    "df_dict[\"students.csv\"][\"birthday\"] = pd.to_datetime(df_dict[\"students.csv\"][\"birthday\"], errors=\"coerce\")\n",
    "\n",
    "df_dict[\"courses.csv\"].columns = [\"index\", \"course_id\", \"course_title\", \"course_field\"]\n",
    "df_dict[\"courses.csv\"].set_index(\"index\", inplace=True)\n",
    "\n",
    "dataset = pd.merge(left=df_dict[\"progresses.csv\"],\n",
    "                   right=df_dict[\"progress_phases.csv\"],\n",
    "                   on=\"progress_id\",\n",
    "                   how=\"outer\")\n",
    "\n",
    "dataset = pd.merge(left=dataset,\n",
    "                   right=df_dict[\"courses.csv\"],\n",
    "                   on=\"course_id\",\n",
    "                   how=\"outer\")\n",
    "\n",
    "dataset = pd.merge(left=dataset,\n",
    "                   right=df_dict[\"course_contents.csv\"],\n",
    "                   on=[\"course_id\", \"lesson_number\", \"module_number\"],\n",
    "                   how=\"outer\")\n",
    "\n",
    "dataset[\"start_date\"] = (\n",
    "    pd.to_datetime(dataset[\"start_date\"], errors=\"coerce\", utc=False)\n",
    "    .dt.tz_localize(None)\n",
    "    )\n",
    "\n",
    "dataset[\"finish_date\"] = (\n",
    "    pd.to_datetime(dataset[\"finish_date\"], errors=\"coerce\", utc=False)\n",
    "    .dt.tz_localize(None)\n",
    "    )\n",
    "\n",
    "dset_students = df_dict[\"students.csv\"].copy(deep=True)\n",
    "dset_students[\"age_years\"] = (np.datetime64(str(2022)) - dset_students[\"birthday\"]).astype(\"timedelta64[Y]\")\n",
    "#dset_students[\"student_age\"] = dset_students[\"student_age\"].astype(\"timedelta64[Y]\")\n",
    "\n",
    "print(\"Main dataset:\", dataset.dtypes, dataset.columns, sep=\"\\n\", end=\"\\n\\n\")\n",
    "print(\"Student dataset:\", dset_students.dtypes, dset_students.columns, sep=\"\\n\")"
   ]
  },
  {
   "cell_type": "markdown",
   "metadata": {},
   "source": [
    "### Questions\n",
    "\n",
    "* how many unfinished modules?\n",
    "* duration of each lesson\n",
    "* duration of spaces between lessons?\n",
    "* total module duration divided by number of homeworks\n",
    "* difference between mean and median time"
   ]
  },
  {
   "cell_type": "markdown",
   "metadata": {},
   "source": [
    "### Making a course-module id to avoid nested groupby\n",
    "because module is being identified with just a number\n",
    "\n",
    "by joining course_id and module_number"
   ]
  },
  {
   "cell_type": "code",
   "execution_count": 28,
   "metadata": {},
   "outputs": [
    {
     "data": {
      "text/plain": [
       "138482    abce125a877c2196a3bc7bfbc11b5fc5_2.0\n",
       "324812    ccbab00e99b27f83369d6cc89d914ad6_1.0\n",
       "144223    17013cd19d25cb3f28dc1b2683721bb9_2.0\n",
       "197165    e9bb9205eeed307ee7cbaa08bfd166c3_6.0\n",
       "323699    ccbab00e99b27f83369d6cc89d914ad6_1.0\n",
       "39515     bf27a4bf4ada4c756451703ea62a914f_3.0\n",
       "180347    dad6f6ffc086caa89e2f40c28a9c7490_1.0\n",
       "196655    e9bb9205eeed307ee7cbaa08bfd166c3_2.0\n",
       "46531     bf27a4bf4ada4c756451703ea62a914f_4.0\n",
       "181184    dad6f6ffc086caa89e2f40c28a9c7490_8.0\n",
       "Name: course-module_id, dtype: object"
      ]
     },
     "execution_count": 28,
     "metadata": {},
     "output_type": "execute_result"
    }
   ],
   "source": [
    "dataset[\"course-module_id\"] = (\n",
    "    dataset[\"course_id\"] +\n",
    "    \"_\" +\n",
    "    dataset[\"module_number\"].astype(\"str\")\n",
    ")\n",
    "\n",
    "dataset[\"course-module_id\"].sample(n=10)"
   ]
  },
  {
   "cell_type": "markdown",
   "metadata": {},
   "source": [
    "How many unique modules?"
   ]
  },
  {
   "cell_type": "code",
   "execution_count": 29,
   "metadata": {},
   "outputs": [
    {
     "data": {
      "text/plain": [
       "230"
      ]
     },
     "execution_count": 29,
     "metadata": {},
     "output_type": "execute_result"
    }
   ],
   "source": [
    "dataset[\"course-module_id\"].nunique()"
   ]
  },
  {
   "cell_type": "markdown",
   "metadata": {},
   "source": [
    "### Time to complete module - minimum"
   ]
  },
  {
   "cell_type": "markdown",
   "metadata": {},
   "source": [
    "modules having 1 homework: 1 student = 1 progress ?\n",
    "\n",
    "2 or more homeworks: 1 student = many progresses ?\n",
    "\n",
    "progress / student ratio"
   ]
  },
  {
   "cell_type": "code",
   "execution_count": 97,
   "metadata": {},
   "outputs": [
    {
     "data": {
      "text/plain": [
       "array([1.])"
      ]
     },
     "execution_count": 97,
     "metadata": {},
     "output_type": "execute_result"
    }
   ],
   "source": [
    "temp_list = []\n",
    "\n",
    "for module_id_, module_gr_ in dataset[dataset[\"is_homework\"] == True].groupby(\"course-module_id\"):\n",
    "    \n",
    "    temp_list.append(module_gr_[\"progress_id\"].nunique() / module_gr_[\"student_id\"].nunique())\n",
    "    \n",
    "pd.Series(temp_list).unique()"
   ]
  },
  {
   "cell_type": "code",
   "execution_count": 85,
   "metadata": {},
   "outputs": [
    {
     "name": "stderr",
     "output_type": "stream",
     "text": [
      "/home/iamcomputer/anaconda3/lib/python3.8/site-packages/numpy/lib/nanfunctions.py:1117: RuntimeWarning: Mean of empty slice\n",
      "  return np.nanmean(a, axis, out=out, keepdims=keepdims)\n"
     ]
    },
    {
     "data": {
      "text/html": [
       "<div>\n",
       "<style scoped>\n",
       "    .dataframe tbody tr th:only-of-type {\n",
       "        vertical-align: middle;\n",
       "    }\n",
       "\n",
       "    .dataframe tbody tr th {\n",
       "        vertical-align: top;\n",
       "    }\n",
       "\n",
       "    .dataframe thead th {\n",
       "        text-align: right;\n",
       "    }\n",
       "</style>\n",
       "<table border=\"1\" class=\"dataframe\">\n",
       "  <thead>\n",
       "    <tr style=\"text-align: right;\">\n",
       "      <th></th>\n",
       "      <th>course_title</th>\n",
       "      <th>module_number</th>\n",
       "      <th>average_time</th>\n",
       "      <th>median_time</th>\n",
       "    </tr>\n",
       "    <tr>\n",
       "      <th>course-module_id</th>\n",
       "      <th></th>\n",
       "      <th></th>\n",
       "      <th></th>\n",
       "      <th></th>\n",
       "    </tr>\n",
       "  </thead>\n",
       "  <tbody>\n",
       "    <tr>\n",
       "      <th>04ba6d0b40670c43a209141fa01fa784_1.0</th>\n",
       "      <td>Анимация интерфейсов</td>\n",
       "      <td>1.0</td>\n",
       "      <td>11 days 19:41:17.659012238</td>\n",
       "      <td>1 days 22:31:56.639415</td>\n",
       "    </tr>\n",
       "    <tr>\n",
       "      <th>04ba6d0b40670c43a209141fa01fa784_10.0</th>\n",
       "      <td>Анимация интерфейсов</td>\n",
       "      <td>10.0</td>\n",
       "      <td>13 days 09:09:49.877145857</td>\n",
       "      <td>6 days 01:01:22.889799500</td>\n",
       "    </tr>\n",
       "    <tr>\n",
       "      <th>04ba6d0b40670c43a209141fa01fa784_11.0</th>\n",
       "      <td>Анимация интерфейсов</td>\n",
       "      <td>11.0</td>\n",
       "      <td>26 days 07:41:06.099055628</td>\n",
       "      <td>12 days 23:33:59.876374</td>\n",
       "    </tr>\n",
       "    <tr>\n",
       "      <th>04ba6d0b40670c43a209141fa01fa784_12.0</th>\n",
       "      <td>Анимация интерфейсов</td>\n",
       "      <td>12.0</td>\n",
       "      <td>NaT</td>\n",
       "      <td>NaT</td>\n",
       "    </tr>\n",
       "    <tr>\n",
       "      <th>04ba6d0b40670c43a209141fa01fa784_13.0</th>\n",
       "      <td>Анимация интерфейсов</td>\n",
       "      <td>13.0</td>\n",
       "      <td>24 days 15:00:26.129520963</td>\n",
       "      <td>9 days 17:02:13.213271</td>\n",
       "    </tr>\n",
       "    <tr>\n",
       "      <th>...</th>\n",
       "      <td>...</td>\n",
       "      <td>...</td>\n",
       "      <td>...</td>\n",
       "      <td>...</td>\n",
       "    </tr>\n",
       "    <tr>\n",
       "      <th>e9bb9205eeed307ee7cbaa08bfd166c3_5.0</th>\n",
       "      <td>JavaScript с нуля</td>\n",
       "      <td>5.0</td>\n",
       "      <td>17 days 10:51:14.284782232</td>\n",
       "      <td>10 days 00:24:29.275534</td>\n",
       "    </tr>\n",
       "    <tr>\n",
       "      <th>e9bb9205eeed307ee7cbaa08bfd166c3_6.0</th>\n",
       "      <td>JavaScript с нуля</td>\n",
       "      <td>6.0</td>\n",
       "      <td>16 days 07:50:56.554498042</td>\n",
       "      <td>8 days 13:22:11.486400</td>\n",
       "    </tr>\n",
       "    <tr>\n",
       "      <th>e9bb9205eeed307ee7cbaa08bfd166c3_7.0</th>\n",
       "      <td>JavaScript с нуля</td>\n",
       "      <td>7.0</td>\n",
       "      <td>20 days 16:23:08.435682182</td>\n",
       "      <td>11 days 05:01:06.596879</td>\n",
       "    </tr>\n",
       "    <tr>\n",
       "      <th>e9bb9205eeed307ee7cbaa08bfd166c3_8.0</th>\n",
       "      <td>JavaScript с нуля</td>\n",
       "      <td>8.0</td>\n",
       "      <td>14 days 09:55:40.627778645</td>\n",
       "      <td>5 days 20:00:10.100321</td>\n",
       "    </tr>\n",
       "    <tr>\n",
       "      <th>e9bb9205eeed307ee7cbaa08bfd166c3_9.0</th>\n",
       "      <td>JavaScript с нуля</td>\n",
       "      <td>9.0</td>\n",
       "      <td>14 days 02:21:28.986471024</td>\n",
       "      <td>5 days 08:16:14.654721</td>\n",
       "    </tr>\n",
       "  </tbody>\n",
       "</table>\n",
       "<p>183 rows × 4 columns</p>\n",
       "</div>"
      ],
      "text/plain": [
       "                                               course_title  module_number  \\\n",
       "course-module_id                                                             \n",
       "04ba6d0b40670c43a209141fa01fa784_1.0   Анимация интерфейсов            1.0   \n",
       "04ba6d0b40670c43a209141fa01fa784_10.0  Анимация интерфейсов           10.0   \n",
       "04ba6d0b40670c43a209141fa01fa784_11.0  Анимация интерфейсов           11.0   \n",
       "04ba6d0b40670c43a209141fa01fa784_12.0  Анимация интерфейсов           12.0   \n",
       "04ba6d0b40670c43a209141fa01fa784_13.0  Анимация интерфейсов           13.0   \n",
       "...                                                     ...            ...   \n",
       "e9bb9205eeed307ee7cbaa08bfd166c3_5.0      JavaScript с нуля            5.0   \n",
       "e9bb9205eeed307ee7cbaa08bfd166c3_6.0      JavaScript с нуля            6.0   \n",
       "e9bb9205eeed307ee7cbaa08bfd166c3_7.0      JavaScript с нуля            7.0   \n",
       "e9bb9205eeed307ee7cbaa08bfd166c3_8.0      JavaScript с нуля            8.0   \n",
       "e9bb9205eeed307ee7cbaa08bfd166c3_9.0      JavaScript с нуля            9.0   \n",
       "\n",
       "                                                     average_time  \\\n",
       "course-module_id                                                    \n",
       "04ba6d0b40670c43a209141fa01fa784_1.0   11 days 19:41:17.659012238   \n",
       "04ba6d0b40670c43a209141fa01fa784_10.0  13 days 09:09:49.877145857   \n",
       "04ba6d0b40670c43a209141fa01fa784_11.0  26 days 07:41:06.099055628   \n",
       "04ba6d0b40670c43a209141fa01fa784_12.0                         NaT   \n",
       "04ba6d0b40670c43a209141fa01fa784_13.0  24 days 15:00:26.129520963   \n",
       "...                                                           ...   \n",
       "e9bb9205eeed307ee7cbaa08bfd166c3_5.0   17 days 10:51:14.284782232   \n",
       "e9bb9205eeed307ee7cbaa08bfd166c3_6.0   16 days 07:50:56.554498042   \n",
       "e9bb9205eeed307ee7cbaa08bfd166c3_7.0   20 days 16:23:08.435682182   \n",
       "e9bb9205eeed307ee7cbaa08bfd166c3_8.0   14 days 09:55:40.627778645   \n",
       "e9bb9205eeed307ee7cbaa08bfd166c3_9.0   14 days 02:21:28.986471024   \n",
       "\n",
       "                                                     median_time  \n",
       "course-module_id                                                  \n",
       "04ba6d0b40670c43a209141fa01fa784_1.0      1 days 22:31:56.639415  \n",
       "04ba6d0b40670c43a209141fa01fa784_10.0  6 days 01:01:22.889799500  \n",
       "04ba6d0b40670c43a209141fa01fa784_11.0    12 days 23:33:59.876374  \n",
       "04ba6d0b40670c43a209141fa01fa784_12.0                        NaT  \n",
       "04ba6d0b40670c43a209141fa01fa784_13.0     9 days 17:02:13.213271  \n",
       "...                                                          ...  \n",
       "e9bb9205eeed307ee7cbaa08bfd166c3_5.0     10 days 00:24:29.275534  \n",
       "e9bb9205eeed307ee7cbaa08bfd166c3_6.0      8 days 13:22:11.486400  \n",
       "e9bb9205eeed307ee7cbaa08bfd166c3_7.0     11 days 05:01:06.596879  \n",
       "e9bb9205eeed307ee7cbaa08bfd166c3_8.0      5 days 20:00:10.100321  \n",
       "e9bb9205eeed307ee7cbaa08bfd166c3_9.0      5 days 08:16:14.654721  \n",
       "\n",
       "[183 rows x 4 columns]"
      ]
     },
     "execution_count": 85,
     "metadata": {},
     "output_type": "execute_result"
    }
   ],
   "source": [
    "data_agg = pd.DataFrame()\n",
    "\n",
    "for module_id_, module_gr_ in dataset[dataset[\"is_homework\"] == True].groupby(\"course-module_id\"):\n",
    "    \n",
    "    if module_gr_[\"lesson_number\"].nunique() == 1:\n",
    "        \n",
    "        average_time = (module_gr_[\"finish_date\"] - module_gr_[\"start_date\"]).mean()\n",
    "        median_time = (module_gr_[\"finish_date\"] - module_gr_[\"start_date\"]).median()\n",
    "        \n",
    "        temp_dict = {\n",
    "        \"course-module_id\" : module_id_,\n",
    "        \"course_title\" : module_gr_[\"course_title\"].iloc[0],\n",
    "        \"module_number\" : module_gr_[\"module_number\"].iloc[0],\n",
    "        \"average_time\" : average_time,\n",
    "        \"median_time\" : median_time\n",
    "        }\n",
    "        data_agg = data_agg.append(temp_dict, ignore_index=True)\n",
    "        \n",
    "    else:\n",
    "        \n",
    "        first_hw_num = module_gr_[\"lesson_number\"].min()\n",
    "        last_hw_num = module_gr_[\"lesson_number\"].max()\n",
    "        \n",
    "        #print(module_id_, first_hw_num, last_hw_num, module_gr_[\"student_id\"].nunique())\n",
    "        \n",
    "data_agg.set_index(\"course-module_id\", inplace=True)\n",
    "data_agg"
   ]
  },
  {
   "cell_type": "markdown",
   "metadata": {},
   "source": [
    "### Time to complete module - maximum"
   ]
  },
  {
   "cell_type": "code",
   "execution_count": null,
   "metadata": {},
   "outputs": [],
   "source": []
  },
  {
   "cell_type": "markdown",
   "metadata": {},
   "source": [
    "### Time to complete module - average"
   ]
  },
  {
   "cell_type": "code",
   "execution_count": null,
   "metadata": {},
   "outputs": [],
   "source": []
  },
  {
   "cell_type": "markdown",
   "metadata": {},
   "source": [
    "### Time to complete module - median"
   ]
  },
  {
   "cell_type": "code",
   "execution_count": null,
   "metadata": {},
   "outputs": [],
   "source": []
  }
 ],
 "metadata": {
  "kernelspec": {
   "display_name": "Python 3",
   "language": "python",
   "name": "python3"
  },
  "language_info": {
   "codemirror_mode": {
    "name": "ipython",
    "version": 3
   },
   "file_extension": ".py",
   "mimetype": "text/x-python",
   "name": "python",
   "nbconvert_exporter": "python",
   "pygments_lexer": "ipython3",
   "version": "3.8.5"
  }
 },
 "nbformat": 4,
 "nbformat_minor": 4
}
